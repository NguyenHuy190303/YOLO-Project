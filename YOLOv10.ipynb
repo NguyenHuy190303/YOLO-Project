{
  "cells": [
    {
      "cell_type": "code",
      "execution_count": null,
      "metadata": {
        "colab": {
          "base_uri": "https://localhost:8080/"
        },
        "id": "imwO0shmCm5P",
        "outputId": "0e6d5b24-1a33-4359-9417-8df7065202e7"
      },
      "outputs": [],
      "source": [
        "!gdown '1twdtZEfcw4ghSZIiPDypJurZnNXzMO7R'\n",
        "!mkdir safety_helmet_dataset\n",
        "!unzip -q '/content/Safety_Helmet_Dataset.zip' -d '/content/safety_helmet_dataset'"
      ]
    },
    {
      "cell_type": "code",
      "execution_count": null,
      "metadata": {
        "colab": {
          "base_uri": "https://localhost:8080/"
        },
        "id": "OMvYJFNbBL15",
        "outputId": "23a61308-ae2d-4107-92c2-3adc9b195288"
      },
      "outputs": [],
      "source": [
        "!git clone https://github.com/THU-MIG/yolov10.git\n",
        "%cd yolov10\n",
        "%pip install -q -r requirements.txt\n",
        "%pip install -e ."
      ]
    },
    {
      "cell_type": "code",
      "execution_count": null,
      "metadata": {
        "colab": {
          "base_uri": "https://localhost:8080/"
        },
        "id": "wlDTUPNPBR_d",
        "outputId": "5875cadd-8c2e-4248-c1ba-26277e5ca84d"
      },
      "outputs": [],
      "source": [
        "!wget https://github.com/THU-MIG/yolov10/releases/download/v1.1/yolov10n.pt"
      ]
    },
    {
      "cell_type": "code",
      "execution_count": null,
      "metadata": {
        "colab": {
          "base_uri": "https://localhost:8080/"
        },
        "id": "yC0OQWr3BX0Q",
        "outputId": "c23dbd7b-a4d7-4cff-eeb6-30f719f63a61"
      },
      "outputs": [],
      "source": [
        "%cd /content/yolov10\n",
        "from ultralytics import YOLOv10\n",
        "\n",
        "MODEL_PATH = 'yolov10n.pt'\n",
        "model = YOLOv10(MODEL_PATH)"
      ]
    },
    {
      "cell_type": "code",
      "execution_count": null,
      "metadata": {
        "colab": {
          "base_uri": "https://localhost:8080/"
        },
        "id": "zTqv3JUuBdZB",
        "outputId": "c08de5b4-72c7-44e9-8045-ff00e1a2406b"
      },
      "outputs": [],
      "source": [
        "YAML_PATH = '/content/safety_helmet_dataset/data.yaml'\n",
        "\n",
        "EPOCHS = 50\n",
        "IMG_SIZE = 640\n",
        "BATCH_SIZE = 64\n",
        "model.train(data=YAML_PATH,\n",
        "            epochs=EPOCHS,\n",
        "            batch=BATCH_SIZE,\n",
        "            imgsz=IMG_SIZE)"
      ]
    },
    {
      "cell_type": "code",
      "execution_count": null,
      "metadata": {
        "colab": {
          "base_uri": "https://localhost:8080/"
        },
        "id": "DJ_dRK7pGARX",
        "outputId": "39ad4b8b-1444-447d-bbc1-0dbdf0457952"
      },
      "outputs": [],
      "source": [
        "TRAINED_MODEL_PATH = '/content/yolov10/runs/detect/train7/weights/best.pt'\n",
        "model = YOLOv10 (TRAINED_MODEL_PATH)\n",
        "model.val(data=YAML_PATH,\n",
        "          imgsz=IMG_SIZE,\n",
        "          split=\"test\")"
      ]
    },
    {
      "cell_type": "code",
      "execution_count": null,
      "metadata": {
        "colab": {
          "base_uri": "https://localhost:8080/"
        },
        "id": "W6ZjKHrrIAeX",
        "outputId": "59dccb70-4050-44fa-ad94-660cfa375735"
      },
      "outputs": [],
      "source": [
        "%cd /content/\n",
        "!mkdir /content/outputs\n",
        "\n",
        "import os\n",
        "\n",
        "FOLDER_PATH = '/content/safety_helmet_dataset/test/images'\n",
        "\n",
        "for file in os.listdir(FOLDER_PATH):\n",
        "  result = model(source=f'{FOLDER_PATH}/{file}', conf=0.3)[0]\n",
        "  result.save(f'/content/outputs/{file}.png')\n"
      ]
    },
    {
      "cell_type": "code",
      "execution_count": null,
      "metadata": {
        "colab": {
          "base_uri": "https://localhost:8080/",
          "height": 36
        },
        "id": "p5vwQN9nSCwc",
        "outputId": "5c20600a-49ef-46ed-8d77-5260e5cc5141"
      },
      "outputs": [
        {
          "data": {
            "application/vnd.google.colaboratory.intrinsic+json": {
              "type": "string"
            },
            "text/plain": [
              "'/content/outputs.zip'"
            ]
          },
          "execution_count": 11,
          "metadata": {},
          "output_type": "execute_result"
        }
      ],
      "source": [
        "import shutil\n",
        "shutil.make_archive('/content/outputs', 'zip', '/content/outputs')"
      ]
    }
  ],
  "metadata": {
    "accelerator": "GPU",
    "colab": {
      "gpuType": "T4",
      "provenance": []
    },
    "kernelspec": {
      "display_name": "Python 3",
      "name": "python3"
    },
    "language_info": {
      "name": "python"
    }
  },
  "nbformat": 4,
  "nbformat_minor": 0
}
